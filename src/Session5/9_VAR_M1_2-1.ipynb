{
  "cells": [
    {
      "cell_type": "code",
      "execution_count": 5,
      "metadata": {
        "colab": {
          "base_uri": "https://localhost:8080/"
        },
        "id": "8UUtwzLVaVZu",
        "outputId": "ff978bc7-9534-40bf-c3f2-57721211bd6c"
      },
      "outputs": [],
      "source": [
        "#Upload libraries\n",
        "import locale\n",
        "from statsmodels.tsa.stattools import adfuller\n",
        "import pandas as pd\n",
        "import seaborn as sns #plots\n",
        "import numpy as np\n",
        "import statistics as stats # statistics\n",
        "import matplotlib.pyplot as plt #graphs\n",
        "import matplotlib as mpl\n",
        "import statsmodels.api as sm\n",
        "from statsmodels.tsa.api import VAR\n",
        "from statsmodels.tsa.stattools import adfuller\n",
        "from statsmodels.tools.eval_measures import rmse, aic"
      ]
    },
    {
      "cell_type": "code",
      "execution_count": 6,
      "metadata": {
        "colab": {
          "base_uri": "https://localhost:8080/",
          "height": 363
        },
        "id": "jWGSIJVampYb",
        "outputId": "d579eea8-1ffc-4623-d158-2a32c44504b1"
      },
      "outputs": [
        {
          "data": {
            "text/html": [
              "<div>\n",
              "<style scoped>\n",
              "    .dataframe tbody tr th:only-of-type {\n",
              "        vertical-align: middle;\n",
              "    }\n",
              "\n",
              "    .dataframe tbody tr th {\n",
              "        vertical-align: top;\n",
              "    }\n",
              "\n",
              "    .dataframe thead th {\n",
              "        text-align: right;\n",
              "    }\n",
              "</style>\n",
              "<table border=\"1\" class=\"dataframe\">\n",
              "  <thead>\n",
              "    <tr style=\"text-align: right;\">\n",
              "      <th></th>\n",
              "      <th>date</th>\n",
              "      <th>inflation</th>\n",
              "      <th>M1</th>\n",
              "    </tr>\n",
              "  </thead>\n",
              "  <tbody>\n",
              "    <tr>\n",
              "      <th>0</th>\n",
              "      <td>2001-01-01 00:00:00</td>\n",
              "      <td>48.575476</td>\n",
              "      <td>524,836,129.99</td>\n",
              "    </tr>\n",
              "    <tr>\n",
              "      <th>1</th>\n",
              "      <td>2001-02-01 00:00:00</td>\n",
              "      <td>48.543328</td>\n",
              "      <td>517,186,605.97</td>\n",
              "    </tr>\n",
              "    <tr>\n",
              "      <th>2</th>\n",
              "      <td>2001-03-01 00:00:00</td>\n",
              "      <td>48.850888</td>\n",
              "      <td>509,701,873.04</td>\n",
              "    </tr>\n",
              "    <tr>\n",
              "      <th>3</th>\n",
              "      <td>2001-04-01 00:00:00</td>\n",
              "      <td>49.097309</td>\n",
              "      <td>511,952,430.01</td>\n",
              "    </tr>\n",
              "    <tr>\n",
              "      <th>4</th>\n",
              "      <td>2001-05-01 00:00:00</td>\n",
              "      <td>49.209970</td>\n",
              "      <td>514,845,459.96</td>\n",
              "    </tr>\n",
              "    <tr>\n",
              "      <th>5</th>\n",
              "      <td>2001-06-01 00:00:00</td>\n",
              "      <td>49.326364</td>\n",
              "      <td>531,037,690.04</td>\n",
              "    </tr>\n",
              "    <tr>\n",
              "      <th>6</th>\n",
              "      <td>2001-07-01 00:00:00</td>\n",
              "      <td>49.198202</td>\n",
              "      <td>535,590,658.99</td>\n",
              "    </tr>\n",
              "    <tr>\n",
              "      <th>7</th>\n",
              "      <td>2001-08-01 00:00:00</td>\n",
              "      <td>49.489688</td>\n",
              "      <td>546,637,481.95</td>\n",
              "    </tr>\n",
              "    <tr>\n",
              "      <th>8</th>\n",
              "      <td>2001-09-01 00:00:00</td>\n",
              "      <td>49.950381</td>\n",
              "      <td>578,773,946.96</td>\n",
              "    </tr>\n",
              "    <tr>\n",
              "      <th>9</th>\n",
              "      <td>2001-10-01 00:00:00</td>\n",
              "      <td>50.176135</td>\n",
              "      <td>577,395,499.96</td>\n",
              "    </tr>\n",
              "  </tbody>\n",
              "</table>\n",
              "</div>"
            ],
            "text/plain": [
              "                  date  inflation              M1\n",
              "0  2001-01-01 00:00:00  48.575476  524,836,129.99\n",
              "1  2001-02-01 00:00:00  48.543328  517,186,605.97\n",
              "2  2001-03-01 00:00:00  48.850888  509,701,873.04\n",
              "3  2001-04-01 00:00:00  49.097309  511,952,430.01\n",
              "4  2001-05-01 00:00:00  49.209970  514,845,459.96\n",
              "5  2001-06-01 00:00:00  49.326364  531,037,690.04\n",
              "6  2001-07-01 00:00:00  49.198202  535,590,658.99\n",
              "7  2001-08-01 00:00:00  49.489688  546,637,481.95\n",
              "8  2001-09-01 00:00:00  49.950381  578,773,946.96\n",
              "9  2001-10-01 00:00:00  50.176135  577,395,499.96"
            ]
          },
          "execution_count": 6,
          "metadata": {},
          "output_type": "execute_result"
        }
      ],
      "source": [
        "#Upload data with pandas\n",
        "df = pd.read_csv(\"9 VAR_M1_2-1.csv\", encoding=\"latin-1\", delimiter=\";\")\n",
        "df.head(10)"
      ]
    },
    {
      "cell_type": "markdown",
      "metadata": {
        "id": "cSIVdyuGQUda"
      },
      "source": [
        "Declare time serie"
      ]
    },
    {
      "cell_type": "code",
      "execution_count": 7,
      "metadata": {
        "id": "kj1a5bJQYsNC"
      },
      "outputs": [],
      "source": [
        "#Create a security copy\n",
        "df1=df.copy()"
      ]
    },
    {
      "cell_type": "code",
      "execution_count": 8,
      "metadata": {
        "colab": {
          "base_uri": "https://localhost:8080/",
          "height": 292
        },
        "id": "ogxI7Xojxlim",
        "outputId": "dcbf5f67-b73c-43e1-defd-3a73a7ecc567"
      },
      "outputs": [
        {
          "data": {
            "text/html": [
              "<div>\n",
              "<style scoped>\n",
              "    .dataframe tbody tr th:only-of-type {\n",
              "        vertical-align: middle;\n",
              "    }\n",
              "\n",
              "    .dataframe tbody tr th {\n",
              "        vertical-align: top;\n",
              "    }\n",
              "\n",
              "    .dataframe thead th {\n",
              "        text-align: right;\n",
              "    }\n",
              "</style>\n",
              "<table border=\"1\" class=\"dataframe\">\n",
              "  <thead>\n",
              "    <tr style=\"text-align: right;\">\n",
              "      <th></th>\n",
              "      <th>inflation</th>\n",
              "      <th>M1</th>\n",
              "    </tr>\n",
              "    <tr>\n",
              "      <th>date</th>\n",
              "      <th></th>\n",
              "      <th></th>\n",
              "    </tr>\n",
              "  </thead>\n",
              "  <tbody>\n",
              "    <tr>\n",
              "      <th>2001-01-01</th>\n",
              "      <td>48.575476</td>\n",
              "      <td>5.248361e+08</td>\n",
              "    </tr>\n",
              "    <tr>\n",
              "      <th>2001-02-01</th>\n",
              "      <td>48.543328</td>\n",
              "      <td>5.171866e+08</td>\n",
              "    </tr>\n",
              "    <tr>\n",
              "      <th>2001-03-01</th>\n",
              "      <td>48.850888</td>\n",
              "      <td>5.097019e+08</td>\n",
              "    </tr>\n",
              "    <tr>\n",
              "      <th>2001-04-01</th>\n",
              "      <td>49.097309</td>\n",
              "      <td>5.119524e+08</td>\n",
              "    </tr>\n",
              "    <tr>\n",
              "      <th>2001-05-01</th>\n",
              "      <td>49.209970</td>\n",
              "      <td>5.148455e+08</td>\n",
              "    </tr>\n",
              "  </tbody>\n",
              "</table>\n",
              "</div>"
            ],
            "text/plain": [
              "            inflation            M1\n",
              "date                               \n",
              "2001-01-01  48.575476  5.248361e+08\n",
              "2001-02-01  48.543328  5.171866e+08\n",
              "2001-03-01  48.850888  5.097019e+08\n",
              "2001-04-01  49.097309  5.119524e+08\n",
              "2001-05-01  49.209970  5.148455e+08"
            ]
          },
          "execution_count": 8,
          "metadata": {},
          "output_type": "execute_result"
        }
      ],
      "source": [
        "# Convert the 'date' column to datetime\n",
        "df['date'] = pd.to_datetime(df['date'])\n",
        "\n",
        "# Remove commas from 'M1' column and convert it to a float\n",
        "df['M1'] = df['M1'].str.replace(',', '').astype(float)\n",
        "\n",
        "# Set the 'date' column as the index\n",
        "df.set_index('date', inplace=True)\n",
        "\n",
        "# Now df is a time series DataFrame\n",
        "df.head()"
      ]
    },
    {
      "cell_type": "markdown",
      "metadata": {
        "id": "h8MpPFhYz6n5"
      },
      "source": [
        "**1) EXAMINE DATA AND CLEAN DATAFRAME**"
      ]
    },
    {
      "cell_type": "code",
      "execution_count": 9,
      "metadata": {
        "colab": {
          "base_uri": "https://localhost:8080/"
        },
        "id": "5M03JYkTzD5_",
        "outputId": "e5b20a67-e94a-429a-d08f-f314280faf8e"
      },
      "outputs": [
        {
          "name": "stdout",
          "output_type": "stream",
          "text": [
            "<class 'pandas.core.frame.DataFrame'>\n",
            "DatetimeIndex: 281 entries, 2001-01-01 to 2024-05-01\n",
            "Data columns (total 2 columns):\n",
            " #   Column     Non-Null Count  Dtype  \n",
            "---  ------     --------------  -----  \n",
            " 0   inflation  281 non-null    float64\n",
            " 1   M1         281 non-null    float64\n",
            "dtypes: float64(2)\n",
            "memory usage: 6.6 KB\n"
          ]
        }
      ],
      "source": [
        "df.info()\n",
        "#M1= Monetary aggregate (bills, coins and bank deposits)"
      ]
    },
    {
      "cell_type": "code",
      "execution_count": 10,
      "metadata": {
        "colab": {
          "base_uri": "https://localhost:8080/"
        },
        "id": "OqJfs0nhz_VB",
        "outputId": "bc8fab3e-cb3e-4a48-bbec-5802719788d6"
      },
      "outputs": [
        {
          "data": {
            "text/plain": [
              "inflation    0\n",
              "M1           0\n",
              "dtype: int64"
            ]
          },
          "execution_count": 10,
          "metadata": {},
          "output_type": "execute_result"
        }
      ],
      "source": [
        "#Let's see null data\n",
        "df.isnull().sum()"
      ]
    },
    {
      "cell_type": "code",
      "execution_count": 11,
      "metadata": {
        "colab": {
          "base_uri": "https://localhost:8080/"
        },
        "id": "yBXgG_Z50cEa",
        "outputId": "b8fa387b-e81d-465a-bb3d-fedb23e9ca1b"
      },
      "outputs": [
        {
          "name": "stdout",
          "output_type": "stream",
          "text": [
            "Filas duplicadas:\n",
            "Empty DataFrame\n",
            "Columns: [inflation, M1]\n",
            "Index: []\n"
          ]
        }
      ],
      "source": [
        "# Let's see if there are duplicated rows\n",
        "duplicated_rows = df.duplicated()\n",
        "# show me the duplicated rows\n",
        "print(\"Filas duplicadas:\")\n",
        "print(df[duplicated_rows])\n"
      ]
    },
    {
      "cell_type": "code",
      "execution_count": 12,
      "metadata": {
        "colab": {
          "base_uri": "https://localhost:8080/"
        },
        "id": "z4_Ym7Rl0oon",
        "outputId": "d1adca39-c282-41cd-edb7-66c77ca82b36"
      },
      "outputs": [
        {
          "name": "stdout",
          "output_type": "stream",
          "text": [
            "Número de filas duplicadas: 0\n"
          ]
        }
      ],
      "source": [
        "# Duplicated rows\n",
        "num_duplicated = duplicated_rows.sum()\n",
        "print(f\"Número de filas duplicadas: {num_duplicated}\")"
      ]
    },
    {
      "cell_type": "markdown",
      "metadata": {
        "id": "2njw9vEO7CbL"
      },
      "source": [
        "Exploratory analyisis"
      ]
    },
    {
      "cell_type": "code",
      "execution_count": 13,
      "metadata": {
        "colab": {
          "base_uri": "https://localhost:8080/",
          "height": 300
        },
        "id": "nC1TFwiv7Ed5",
        "outputId": "41d6ebda-fef7-4b18-e278-34a0888dbc87"
      },
      "outputs": [
        {
          "data": {
            "text/html": [
              "<div>\n",
              "<style scoped>\n",
              "    .dataframe tbody tr th:only-of-type {\n",
              "        vertical-align: middle;\n",
              "    }\n",
              "\n",
              "    .dataframe tbody tr th {\n",
              "        vertical-align: top;\n",
              "    }\n",
              "\n",
              "    .dataframe thead th {\n",
              "        text-align: right;\n",
              "    }\n",
              "</style>\n",
              "<table border=\"1\" class=\"dataframe\">\n",
              "  <thead>\n",
              "    <tr style=\"text-align: right;\">\n",
              "      <th></th>\n",
              "      <th>inflation</th>\n",
              "      <th>M1</th>\n",
              "    </tr>\n",
              "  </thead>\n",
              "  <tbody>\n",
              "    <tr>\n",
              "      <th>count</th>\n",
              "      <td>281.0</td>\n",
              "      <td>2.810000e+02</td>\n",
              "    </tr>\n",
              "    <tr>\n",
              "      <th>mean</th>\n",
              "      <td>82.7</td>\n",
              "      <td>2.783049e+09</td>\n",
              "    </tr>\n",
              "    <tr>\n",
              "      <th>std</th>\n",
              "      <td>23.5</td>\n",
              "      <td>2.008696e+09</td>\n",
              "    </tr>\n",
              "    <tr>\n",
              "      <th>min</th>\n",
              "      <td>48.5</td>\n",
              "      <td>5.097019e+08</td>\n",
              "    </tr>\n",
              "    <tr>\n",
              "      <th>25%</th>\n",
              "      <td>62.3</td>\n",
              "      <td>1.117490e+09</td>\n",
              "    </tr>\n",
              "    <tr>\n",
              "      <th>50%</th>\n",
              "      <td>79.4</td>\n",
              "      <td>2.081526e+09</td>\n",
              "    </tr>\n",
              "    <tr>\n",
              "      <th>75%</th>\n",
              "      <td>99.9</td>\n",
              "      <td>4.197524e+09</td>\n",
              "    </tr>\n",
              "    <tr>\n",
              "      <th>max</th>\n",
              "      <td>134.3</td>\n",
              "      <td>7.445689e+09</td>\n",
              "    </tr>\n",
              "  </tbody>\n",
              "</table>\n",
              "</div>"
            ],
            "text/plain": [
              "       inflation            M1\n",
              "count      281.0  2.810000e+02\n",
              "mean        82.7  2.783049e+09\n",
              "std         23.5  2.008696e+09\n",
              "min         48.5  5.097019e+08\n",
              "25%         62.3  1.117490e+09\n",
              "50%         79.4  2.081526e+09\n",
              "75%         99.9  4.197524e+09\n",
              "max        134.3  7.445689e+09"
            ]
          },
          "execution_count": 13,
          "metadata": {},
          "output_type": "execute_result"
        }
      ],
      "source": [
        "#Basic statistics\n",
        "df_descriptive_stats = df.describe()\n",
        "\n",
        "# Descriptive statistics\n",
        "df_descriptive_stats.round(1)"
      ]
    },
    {
      "cell_type": "markdown",
      "metadata": {
        "id": "-yvkoA6c8831"
      },
      "source": [
        "PLOT TIME SERIES"
      ]
    },
    {
      "cell_type": "code",
      "execution_count": 14,
      "metadata": {
        "colab": {
          "base_uri": "https://localhost:8080/",
          "height": 614
        },
        "id": "epkRcTJg84Ib",
        "outputId": "9fb3f115-0a63-483c-ca8d-49258f315a40"
      },
      "outputs": [
        {
          "data": {
            "image/png": "[encoded data removed]",
            "text/plain": [
              "<Figure size 1500x1000 with 2 Axes>"
            ]
          },
          "metadata": {},
          "output_type": "display_data"
        }
      ],
      "source": [
        "#Plot variables\n",
        "plt.figure(figsize=(15, 10))\n",
        "\n",
        "# Inflation\n",
        "plt.subplot(3, 1, 1)\n",
        "plt.plot(df.index, df['inflation'], marker='o', linestyle='-', color='b')\n",
        "plt.title('Inflation Behavior')\n",
        "plt.xlabel('Date')\n",
        "plt.ylabel('Inflation')\n",
        "\n",
        "# M1 (monetary aggregate )\n",
        "plt.subplot(3, 1, 2)\n",
        "plt.plot(df.index, df['M1'], marker='o', linestyle='-', color='r')\n",
        "plt.title(' Behavior of aggregated money')\n",
        "plt.xlabel('Date')\n",
        "plt.ylabel('Aggregated money')\n",
        "\n",
        "\n",
        "plt.tight_layout()\n",
        "plt.show()"
      ]
    },
    {
      "cell_type": "markdown",
      "metadata": {
        "id": "iqnNBWkg1zO8"
      },
      "source": [
        "**2) CHECK FOR STATIONARITY:** Apply Augmented Dickey Fuller Test\n",
        "In the ADF test:\n",
        "\n",
        "Ho: Time Series is considered non-stationary\n",
        "\n",
        "**Ha: Time series is stationary when p-value of the test <0.05**"
      ]
    },
    {
      "cell_type": "code",
      "execution_count": 15,
      "metadata": {
        "id": "Z2wpjoXz1ydl"
      },
      "outputs": [],
      "source": [
        "#Let's create a function to apply the ADF test\n",
        "def adf_test(series, title=''):\n",
        "    \"\"\"\n",
        "    Pass in a time series and an optional title, returns an ADF report\n",
        "    \"\"\"\n",
        "    print(f'Augmented Dickey-Fuller Test: {title}')\n",
        "    result = adfuller(series.dropna(), autolag='AIC')  # .dropna() handles differenced data\n",
        "    labels = ['ADF test statistic', 'p-value', '# lags used', '# observations']\n",
        "    out = pd.Series(result[0:4], index=labels)\n",
        "    for key, val in result[4].items():\n",
        "        out[f'critical value ({key})'] = val\n",
        "    print(out.to_string())  # .to_string() removes the line \"dtype: float64\"\n"
      ]
    },
    {
      "cell_type": "code",
      "execution_count": 16,
      "metadata": {
        "colab": {
          "base_uri": "https://localhost:8080/"
        },
        "id": "HUCdgwjrDWTD",
        "outputId": "82b60112-fdb4-4079-a872-7468aee7a529"
      },
      "outputs": [
        {
          "name": "stdout",
          "output_type": "stream",
          "text": [
            "Augmented Dickey-Fuller Test: Inflation Data\n",
            "ADF test statistic        1.932498\n",
            "p-value                   0.998579\n",
            "# lags used              12.000000\n",
            "# observations          268.000000\n",
            "critical value (1%)      -3.454988\n",
            "critical value (5%)      -2.872386\n",
            "critical value (10%)     -2.572549\n",
            "Augmented Dickey-Fuller Test: Aggregated money\n",
            "ADF test statistic        3.461943\n",
            "p-value                   1.000000\n",
            "# lags used              15.000000\n",
            "# observations          265.000000\n",
            "critical value (1%)      -3.455270\n",
            "critical value (5%)      -2.872509\n",
            "critical value (10%)     -2.572615\n"
          ]
        }
      ],
      "source": [
        "# Perform the ADF test on each column. It is stationary if p-value< 0.05 :-)\n",
        "adf_test(df['inflation'], title='Inflation Data')\n",
        "adf_test(df['M1'], title='Aggregated money')\n"
      ]
    },
    {
      "cell_type": "markdown",
      "metadata": {
        "id": "pNktcKywGA4Z"
      },
      "source": [
        "We can see that 2 variables have a unit root and are \"non stationary\", since all \"p-values\" are > than 0.05 :-(\n",
        "\n",
        "P_values: inflation 0.99  \n",
        "\n",
        "M1: 1.000"
      ]
    },
    {
      "cell_type": "markdown",
      "metadata": {
        "id": "HM1g0BWnlXwf"
      },
      "source": [
        "**3) CHECK NUMBER OF NEEDED DIFFERENCES** to apply in the VAR"
      ]
    },
    {
      "cell_type": "code",
      "execution_count": 17,
      "metadata": {
        "id": "QVeOD0ysVpm3"
      },
      "outputs": [],
      "source": [
        "# Function to find the number of differences necessary to make the series stationary (maximum 5)\n",
        "def find_differencing(series, max_diff=5):\n",
        "    diff = 0\n",
        "    current_series = series.copy()\n",
        "\n",
        "    while not adf_test(current_series) and diff < max_diff:\n",
        "        if len(current_series) <= 1:\n",
        "            print(\"La serie es demasiado corta para más diferenciaciones.\")\n",
        "            return diff\n",
        "        diff += 1\n",
        "        current_series = current_series.diff().dropna()\n",
        "        print(f\"Diferenciación {diff} para la columna actual: ADF p-value = {adfuller(current_series)[1]}\")\n",
        "\n",
        "    return diff"
      ]
    },
    {
      "cell_type": "code",
      "execution_count": 18,
      "metadata": {
        "colab": {
          "base_uri": "https://localhost:8080/"
        },
        "id": "aMUM9o4GVQVf",
        "outputId": "3233a2ed-f507-43e2-d9fc-41ff5abbaac6"
      },
      "outputs": [
        {
          "name": "stdout",
          "output_type": "stream",
          "text": [
            "\n",
            "Analizando la columna inflation...\n",
            "Augmented Dickey-Fuller Test: \n",
            "ADF test statistic        1.932498\n",
            "p-value                   0.998579\n",
            "# lags used              12.000000\n",
            "# observations          268.000000\n",
            "critical value (1%)      -3.454988\n",
            "critical value (5%)      -2.872386\n",
            "critical value (10%)     -2.572549\n",
            "Diferenciación 1 para la columna actual: ADF p-value = 0.37898714339307327\n",
            "Augmented Dickey-Fuller Test: \n",
            "ADF test statistic       -1.802972\n",
            "p-value                   0.378987\n",
            "# lags used              11.000000\n",
            "# observations          268.000000\n",
            "critical value (1%)      -3.454988\n",
            "critical value (5%)      -2.872386\n",
            "critical value (10%)     -2.572549\n",
            "Diferenciación 2 para la columna actual: ADF p-value = 4.927121886089115e-25\n",
            "Augmented Dickey-Fuller Test: \n",
            "ADF test statistic     -1.338339e+01\n",
            "p-value                 4.927122e-25\n",
            "# lags used             1.000000e+01\n",
            "# observations          2.680000e+02\n",
            "critical value (1%)    -3.454988e+00\n",
            "critical value (5%)    -2.872386e+00\n",
            "critical value (10%)   -2.572549e+00\n",
            "Diferenciación 3 para la columna actual: ADF p-value = 2.2485817566660684e-21\n",
            "Augmented Dickey-Fuller Test: \n",
            "ADF test statistic     -1.163220e+01\n",
            "p-value                 2.248582e-21\n",
            "# lags used             1.600000e+01\n",
            "# observations          2.610000e+02\n",
            "critical value (1%)    -3.455656e+00\n",
            "critical value (5%)    -2.872678e+00\n",
            "critical value (10%)   -2.572705e+00\n",
            "Diferenciación 4 para la columna actual: ADF p-value = 2.3849672790188536e-24\n",
            "Augmented Dickey-Fuller Test: \n",
            "ADF test statistic     -1.302729e+01\n",
            "p-value                 2.384967e-24\n",
            "# lags used             1.600000e+01\n",
            "# observations          2.600000e+02\n",
            "critical value (1%)    -3.455754e+00\n",
            "critical value (5%)    -2.872721e+00\n",
            "critical value (10%)   -2.572728e+00\n",
            "Diferenciación 5 para la columna actual: ADF p-value = 1.2543238002309475e-21\n",
            "Augmented Dickey-Fuller Test: \n",
            "ADF test statistic     -1.174396e+01\n",
            "p-value                 1.254324e-21\n",
            "# lags used             1.600000e+01\n",
            "# observations          2.590000e+02\n",
            "critical value (1%)    -3.455853e+00\n",
            "critical value (5%)    -2.872765e+00\n",
            "critical value (10%)   -2.572752e+00\n",
            "\n",
            "Analizando la columna M1...\n",
            "Augmented Dickey-Fuller Test: \n",
            "ADF test statistic        3.461943\n",
            "p-value                   1.000000\n",
            "# lags used              15.000000\n",
            "# observations          265.000000\n",
            "critical value (1%)      -3.455270\n",
            "critical value (5%)      -2.872509\n",
            "critical value (10%)     -2.572615\n",
            "Diferenciación 1 para la columna actual: ADF p-value = 0.20929055020166765\n",
            "Augmented Dickey-Fuller Test: \n",
            "ADF test statistic       -2.191648\n",
            "p-value                   0.209291\n",
            "# lags used              15.000000\n",
            "# observations          264.000000\n",
            "critical value (1%)      -3.455365\n",
            "critical value (5%)      -2.872551\n",
            "critical value (10%)     -2.572638\n",
            "Diferenciación 2 para la columna actual: ADF p-value = 7.219910748903131e-10\n",
            "Augmented Dickey-Fuller Test: \n",
            "ADF test statistic     -7.003512e+00\n",
            "p-value                 7.219911e-10\n",
            "# lags used             1.400000e+01\n",
            "# observations          2.640000e+02\n",
            "critical value (1%)    -3.455365e+00\n",
            "critical value (5%)    -2.872551e+00\n",
            "critical value (10%)   -2.572638e+00\n",
            "Diferenciación 3 para la columna actual: ADF p-value = 1.915168851951604e-17\n",
            "Augmented Dickey-Fuller Test: \n",
            "ADF test statistic     -9.998194e+00\n",
            "p-value                 1.915169e-17\n",
            "# lags used             1.500000e+01\n",
            "# observations          2.620000e+02\n",
            "critical value (1%)    -3.455558e+00\n",
            "critical value (5%)    -2.872636e+00\n",
            "critical value (10%)   -2.572683e+00\n",
            "Diferenciación 4 para la columna actual: ADF p-value = 4.567571648843967e-20\n",
            "Augmented Dickey-Fuller Test: \n",
            "ADF test statistic     -1.107045e+01\n",
            "p-value                 4.567572e-20\n",
            "# lags used             1.600000e+01\n",
            "# observations          2.600000e+02\n",
            "critical value (1%)    -3.455754e+00\n",
            "critical value (5%)    -2.872721e+00\n",
            "critical value (10%)   -2.572728e+00\n",
            "Diferenciación 5 para la columna actual: ADF p-value = 5.548339591198816e-23\n",
            "Augmented Dickey-Fuller Test: \n",
            "ADF test statistic     -1.236095e+01\n",
            "p-value                 5.548340e-23\n",
            "# lags used             1.600000e+01\n",
            "# observations          2.590000e+02\n",
            "critical value (1%)    -3.455853e+00\n",
            "critical value (5%)    -2.872765e+00\n",
            "critical value (10%)   -2.572752e+00\n"
          ]
        }
      ],
      "source": [
        "# Calculate the number of differences needed for each column (maximum 5)\n",
        "# Inflation need 2 differences:  p-value = 4.927121886088865e-25 = 0.0000000000000000000000004927121886088865 < 0.05\n",
        "#M1 needs 2 differences: 7.219910748906208e-10=0.0000000007219910748906208 < 0.05\n",
        "\n",
        "\n",
        "resultados_diferenciacion = {}\n",
        "for columna in df.columns:\n",
        "    print(f\"\\nAnalizando la columna {columna}...\")\n",
        "    num_diff = find_differencing(df[columna], max_diff=5)\n",
        "    resultados_diferenciacion[columna] = num_diff\n",
        "\n"
      ]
    },
    {
      "cell_type": "markdown",
      "metadata": {
        "id": "ltsE4e-tl1Q4"
      },
      "source": [
        " Inflation needs 2 differences:\n",
        "\n",
        "M1 needs 2 differences:"
      ]
    },
    {
      "cell_type": "markdown",
      "metadata": {
        "id": "qT6JuwhiIjAe"
      },
      "source": [
        "**Apply differenciation and prepare data for modeling**\n",
        "\n",
        " Differencing is a common technique used to remove trends and make the data stationary.\n",
        "\n",
        " We will only difference \"inflation and enemply\" to make it stationary."
      ]
    },
    {
      "cell_type": "code",
      "execution_count": 19,
      "metadata": {
        "colab": {
          "base_uri": "https://localhost:8080/"
        },
        "id": "FikVd6gznZQv",
        "outputId": "8757bf87-c5f0-4a50-9b4c-5c886250a4b5"
      },
      "outputs": [
        {
          "name": "stdout",
          "output_type": "stream",
          "text": [
            "Combined Data (Differenced where needed):\n",
            "            inflation           M1\n",
            "date                              \n",
            "2001-03-01   0.339708    164791.09\n",
            "2001-04-01  -0.061139   9735289.90\n",
            "2001-05-01  -0.133759    642472.98\n",
            "2001-06-01   0.003731  13299200.13\n",
            "2001-07-01  -0.244555 -11639261.13\n"
          ]
        }
      ],
      "source": [
        "# Columns that need differentiation and the number of differences required\n",
        "columns_to_diff = {'inflation': 2, 'M1': 2}\n",
        "# Columns that do not need differentiation\n",
        "columns_no_diff = []\n",
        "\n",
        "# Apply differentiation to selected columns\n",
        "df_diff = df.copy()\n",
        "for col, n_diffs in columns_to_diff.items():\n",
        "    for _ in range(n_diffs):\n",
        "        df_diff[col] = df_diff[col].diff()\n",
        "df_diff = df_diff.dropna()\n",
        "\n",
        "# Ensure all columns are aligned (here we just use an empty list as no columns are undifferentiated)\n",
        "if columns_no_diff:\n",
        "    df_non_diff = df[columns_no_diff].iloc[max(columns_to_diff.values()):]\n",
        "    # Combine differentiated and non-differentiated columns\n",
        "    df_combined = pd.concat([df_diff[columns_to_diff.keys()], df_non_diff], axis=1).dropna()\n",
        "else:\n",
        "    df_combined = df_diff[columns_to_diff.keys()]\n",
        "\n",
        "print(\"Combined Data (Differenced where needed):\")\n",
        "print(df_combined.head())"
      ]
    },
    {
      "cell_type": "markdown",
      "metadata": {
        "id": "_QITRvZP8ebB"
      },
      "source": [
        "**3) TRAIN TEST SPLIT**"
      ]
    },
    {
      "cell_type": "code",
      "execution_count": 20,
      "metadata": {
        "colab": {
          "base_uri": "https://localhost:8080/"
        },
        "id": "mGedEZVoJcYZ",
        "outputId": "b625bedd-ca4b-402b-8a16-bdb4baf0ab9c"
      },
      "outputs": [
        {
          "name": "stdout",
          "output_type": "stream",
          "text": [
            "Train set:\n",
            "            inflation            M1\n",
            "date                               \n",
            "2023-01-01      0.377 -5.793123e+08\n",
            "2023-02-01     -0.148  2.252992e+08\n",
            "2023-03-01     -0.367  4.132605e+07\n",
            "2023-04-01     -0.369  1.305685e+07\n",
            "2023-05-01     -0.253 -1.925362e+07\n",
            "Test set:\n",
            "            inflation           M1\n",
            "date                              \n",
            "2023-06-01      0.409  57427562.14\n",
            "2023-07-01      0.488   7181979.42\n",
            "2023-08-01      0.095 -68073465.26\n",
            "2023-09-01     -0.138  37569720.34\n",
            "2023-10-01     -0.086  64451204.21\n"
          ]
        }
      ],
      "source": [
        "# Train-Test Split\n",
        "#Split the differenced data into training and testing sets, using the last 12 observations (assuming Monthly data) for testing.\n",
        "\n",
        "test_obs = 12\n",
        "\n",
        "train = df_combined[:-test_obs]\n",
        "test = df_combined[-test_obs:]\n",
        "\n",
        "print(\"Train set:\")\n",
        "print(train.tail())\n",
        "print(\"Test set:\")\n",
        "print(test.head())"
      ]
    },
    {
      "cell_type": "markdown",
      "metadata": {
        "id": "9-Nueehd8mcm"
      },
      "source": [
        "4) **GRID SEARCH FOR LAG ORDER P**"
      ]
    },
    {
      "cell_type": "code",
      "execution_count": 21,
      "metadata": {
        "colab": {
          "base_uri": "https://localhost:8080/"
        },
        "id": "MW2feDWzRx9o",
        "outputId": "39063049-4993-406e-da4b-602d5c384125"
      },
      "outputs": [
        {
          "name": "stderr",
          "output_type": "stream",
          "text": [
            "c:\\Users\\Administrador\\AppData\\Local\\Programs\\Python\\Python312\\Lib\\site-packages\\statsmodels\\tsa\\base\\tsa_model.py:473: ValueWarning: No frequency information was provided, so inferred frequency MS will be used.\n",
            "  self._init_dates(dates, freq)\n"
          ]
        },
        {
          "name": "stdout",
          "output_type": "stream",
          "text": [
            "Order = 1\n",
            "AIC:  34.338332440487335\n",
            "BIC:  34.41916318429444\n",
            "\n",
            "Order = 2\n",
            "AIC:  34.08636613093458\n",
            "BIC:  34.22145027531142\n",
            "\n",
            "Order = 3\n",
            "AIC:  33.993648687927674\n",
            "BIC:  34.18328235248846\n",
            "\n",
            "Order = 4\n",
            "AIC:  33.7466111653409\n",
            "BIC:  33.99109319035687\n",
            "\n",
            "Order = 5\n",
            "AIC:  33.52156187538682\n",
            "BIC:  33.82119385661867\n",
            "\n",
            "Order = 6\n",
            "AIC:  33.270644812003844\n",
            "BIC:  33.62573113610495\n",
            "\n",
            "Order = 7\n",
            "AIC:  33.15332608945973\n",
            "BIC:  33.56417396996152\n",
            "\n",
            "Order = 8\n",
            "AIC:  33.068740513093665\n",
            "BIC:  33.53566002698472\n",
            "\n",
            "Order = 9\n",
            "AIC:  33.03191897065122\n",
            "BIC:  33.555223095562155\n",
            "\n",
            "Order = 10\n",
            "AIC:  32.98105256813007\n",
            "BIC:  33.56105722013629\n",
            "\n"
          ]
        },
        {
          "name": "stderr",
          "output_type": "stream",
          "text": [
            "c:\\Users\\Administrador\\AppData\\Local\\Programs\\Python\\Python312\\Lib\\site-packages\\statsmodels\\tsa\\base\\tsa_model.py:473: ValueWarning: No frequency information was provided, so inferred frequency MS will be used.\n",
            "  self._init_dates(dates, freq)\n",
            "c:\\Users\\Administrador\\AppData\\Local\\Programs\\Python\\Python312\\Lib\\site-packages\\statsmodels\\tsa\\base\\tsa_model.py:473: ValueWarning: No frequency information was provided, so inferred frequency MS will be used.\n",
            "  self._init_dates(dates, freq)\n",
            "c:\\Users\\Administrador\\AppData\\Local\\Programs\\Python\\Python312\\Lib\\site-packages\\statsmodels\\tsa\\base\\tsa_model.py:473: ValueWarning: No frequency information was provided, so inferred frequency MS will be used.\n",
            "  self._init_dates(dates, freq)\n",
            "c:\\Users\\Administrador\\AppData\\Local\\Programs\\Python\\Python312\\Lib\\site-packages\\statsmodels\\tsa\\base\\tsa_model.py:473: ValueWarning: No frequency information was provided, so inferred frequency MS will be used.\n",
            "  self._init_dates(dates, freq)\n",
            "c:\\Users\\Administrador\\AppData\\Local\\Programs\\Python\\Python312\\Lib\\site-packages\\statsmodels\\tsa\\base\\tsa_model.py:473: ValueWarning: No frequency information was provided, so inferred frequency MS will be used.\n",
            "  self._init_dates(dates, freq)\n",
            "c:\\Users\\Administrador\\AppData\\Local\\Programs\\Python\\Python312\\Lib\\site-packages\\statsmodels\\tsa\\base\\tsa_model.py:473: ValueWarning: No frequency information was provided, so inferred frequency MS will be used.\n",
            "  self._init_dates(dates, freq)\n",
            "c:\\Users\\Administrador\\AppData\\Local\\Programs\\Python\\Python312\\Lib\\site-packages\\statsmodels\\tsa\\base\\tsa_model.py:473: ValueWarning: No frequency information was provided, so inferred frequency MS will be used.\n",
            "  self._init_dates(dates, freq)\n",
            "c:\\Users\\Administrador\\AppData\\Local\\Programs\\Python\\Python312\\Lib\\site-packages\\statsmodels\\tsa\\base\\tsa_model.py:473: ValueWarning: No frequency information was provided, so inferred frequency MS will be used.\n",
            "  self._init_dates(dates, freq)\n",
            "c:\\Users\\Administrador\\AppData\\Local\\Programs\\Python\\Python312\\Lib\\site-packages\\statsmodels\\tsa\\base\\tsa_model.py:473: ValueWarning: No frequency information was provided, so inferred frequency MS will be used.\n",
            "  self._init_dates(dates, freq)\n"
          ]
        }
      ],
      "source": [
        "#  Grid Search for Optimal Lag Order.\n",
        "# VERY IMPORTANT: The lag order determines how many past observations (lags) of the variables are used to predict the current value of the variables.\n",
        "# We have to determine the optimal lag order based on AIC and BIC\n",
        "#The best AIC and BIC are those with the lowest results.\n",
        "\n",
        "aic_values = []\n",
        "bic_values = []\n",
        "for i in range(1, 11):  # the more lags, the more complex is the model, We choose until 11, but we select more lags\n",
        "    model = VAR(train)\n",
        "    results = model.fit(i)\n",
        "    aic_values.append(results.aic)\n",
        "    bic_values.append(results.bic)\n",
        "    print('Order =', i)\n",
        "    print('AIC: ', results.aic)\n",
        "    print('BIC: ', results.bic)\n",
        "    print()"
      ]
    },
    {
      "cell_type": "code",
      "execution_count": 22,
      "metadata": {
        "colab": {
          "base_uri": "https://localhost:8080/"
        },
        "id": "uf747TlPR5wg",
        "outputId": "2e9bd6ff-acc5-46dc-bb21-f4bc83f4d257"
      },
      "outputs": [
        {
          "name": "stdout",
          "output_type": "stream",
          "text": [
            "Optimal order based on AIC: 10\n",
            "Optimal order based on BIC: 8\n"
          ]
        }
      ],
      "source": [
        "# Find the optimal lag order based on AIC and BIC\n",
        "#Once the optimal lag order P is determined, it is used to specify how many past values of each variable should be included in the VAR model.\n",
        "optimal_order_aic = np.argmin(aic_values) + 1\n",
        "optimal_order_bic = np.argmin(bic_values) + 1\n",
        "\n",
        "print(f'Optimal order based on AIC: {optimal_order_aic}')\n",
        "print(f'Optimal order based on BIC: {optimal_order_bic}')"
      ]
    },
    {
      "cell_type": "markdown",
      "metadata": {
        "id": "95EF50wzMT0y"
      },
      "source": [
        "**5) APPLY VAR MODEL WITH ORDER P**\n",
        "\n",
        "Let's try with 10 laggs- AIC/BIC"
      ]
    },
    {
      "cell_type": "code",
      "execution_count": 23,
      "metadata": {
        "colab": {
          "base_uri": "https://localhost:8080/"
        },
        "id": "8ECdrmlIY8q7",
        "outputId": "1e1fd293-c3bc-4a78-a01d-4e42da7cc001"
      },
      "outputs": [
        {
          "name": "stderr",
          "output_type": "stream",
          "text": [
            "c:\\Users\\Administrador\\AppData\\Local\\Programs\\Python\\Python312\\Lib\\site-packages\\statsmodels\\tsa\\base\\tsa_model.py:473: ValueWarning: No frequency information was provided, so inferred frequency MS will be used.\n",
            "  self._init_dates(dates, freq)\n"
          ]
        },
        {
          "data": {
            "text/plain": [
              "  Summary of Regression Results   \n",
              "==================================\n",
              "Model:                         VAR\n",
              "Method:                        OLS\n",
              "Date:           Tue, 16, Jul, 2024\n",
              "Time:                     12:08:38\n",
              "--------------------------------------------------------------------\n",
              "No. of Equations:         2.00000    BIC:                    33.5611\n",
              "Nobs:                     257.000    HQIC:                   33.2143\n",
              "Log likelihood:          -4925.40    FPE:                2.10769e+14\n",
              "AIC:                      32.9811    Det(Omega_mle):     1.80129e+14\n",
              "--------------------------------------------------------------------\n",
              "Results for equation inflation\n",
              "================================================================================\n",
              "                   coefficient       std. error           t-stat            prob\n",
              "--------------------------------------------------------------------------------\n",
              "const                 0.006281         0.013519            0.465           0.642\n",
              "L1.inflation         -0.541453         0.063586           -8.515           0.000\n",
              "L1.M1                 0.000000         0.000000            2.861           0.004\n",
              "L2.inflation         -0.480816         0.071388           -6.735           0.000\n",
              "L2.M1                 0.000000         0.000000            3.420           0.001\n",
              "L3.inflation         -0.445509         0.074731           -5.961           0.000\n",
              "L3.M1                 0.000000         0.000000            5.019           0.000\n",
              "L4.inflation         -0.333767         0.076294           -4.375           0.000\n",
              "L4.M1                 0.000000         0.000000            3.670           0.000\n",
              "L5.inflation         -0.344102         0.068561           -5.019           0.000\n",
              "L5.M1                -0.000000         0.000000           -0.007           0.994\n",
              "L6.inflation         -0.544694         0.069246           -7.866           0.000\n",
              "L6.M1                -0.000000         0.000000           -0.881           0.378\n",
              "L7.inflation         -0.347314         0.071942           -4.828           0.000\n",
              "L7.M1                -0.000000         0.000000           -1.026           0.305\n",
              "L8.inflation         -0.300911         0.070906           -4.244           0.000\n",
              "L8.M1                -0.000000         0.000000           -1.877           0.060\n",
              "L9.inflation         -0.238815         0.070132           -3.405           0.001\n",
              "L9.M1                -0.000000         0.000000           -1.599           0.110\n",
              "L10.inflation        -0.036438         0.063849           -0.571           0.568\n",
              "L10.M1               -0.000000         0.000000           -3.404           0.001\n",
              "================================================================================\n",
              "\n",
              "Results for equation M1\n",
              "=================================================================================\n",
              "                    coefficient       std. error           t-stat            prob\n",
              "---------------------------------------------------------------------------------\n",
              "const              93198.954704   3876636.748064            0.024           0.981\n",
              "L1.inflation    29382963.980601  18233892.422866            1.611           0.107\n",
              "L1.M1                 -1.024444         0.063976          -16.013           0.000\n",
              "L2.inflation   -10051099.488462  20471116.995505           -0.491           0.623\n",
              "L2.M1                 -1.067818         0.092727          -11.516           0.000\n",
              "L3.inflation    18320234.531734  21429916.429032            0.855           0.393\n",
              "L3.M1                 -0.979433         0.115887           -8.452           0.000\n",
              "L4.inflation   -17404255.375423  21877954.762284           -0.796           0.426\n",
              "L4.M1                 -0.909307         0.134987           -6.736           0.000\n",
              "L5.inflation    38118957.207805  19660600.454322            1.939           0.053\n",
              "L5.M1                 -0.656843         0.150563           -4.363           0.000\n",
              "L6.inflation     1289318.891291  19857042.246712            0.065           0.948\n",
              "L6.M1                 -0.307565         0.148425           -2.072           0.038\n",
              "L7.inflation   -93838315.519433  20630024.763407           -4.549           0.000\n",
              "L7.M1                 -0.192510         0.138526           -1.390           0.165\n",
              "L8.inflation   -81416999.886435  20332787.011284           -4.004           0.000\n",
              "L8.M1                 -0.077414         0.123108           -0.629           0.529\n",
              "L9.inflation    -3541062.886548  20110840.401969           -0.176           0.860\n",
              "L9.M1                  0.052938         0.098846            0.536           0.592\n",
              "L10.inflation  -54578601.976018  18309354.379761           -2.981           0.003\n",
              "L10.M1                 0.025721         0.068195            0.377           0.706\n",
              "=================================================================================\n",
              "\n",
              "Correlation matrix of residuals\n",
              "             inflation        M1\n",
              "inflation     1.000000  0.006138\n",
              "M1            0.006138  1.000000\n",
              "\n"
            ]
          },
          "execution_count": 23,
          "metadata": {},
          "output_type": "execute_result"
        }
      ],
      "source": [
        "model = VAR(train)\n",
        "optimal_order = model.select_order(maxlags=10).aic\n",
        "results2 = model.fit(optimal_order)\n",
        "results2.summary()"
      ]
    },
    {
      "cell_type": "markdown",
      "metadata": {
        "id": "_avZfCk_ukaz"
      },
      "source": [
        "**In inflation equation**\n",
        "\n",
        "\n",
        "\n"
      ]
    },
    {
      "cell_type": "markdown",
      "metadata": {
        "id": "E3DWLXrJ87qA"
      },
      "source": [
        "**6) FORECAST**:\n",
        "\n",
        "There are in differences (2)"
      ]
    },
    {
      "cell_type": "code",
      "execution_count": 24,
      "metadata": {
        "id": "kJbmIlcxaxPq"
      },
      "outputs": [],
      "source": [
        "lagged_Values = train.values[-10:] #lags\n",
        "pred = results2.forecast(y=lagged_Values, steps=12)\n",
        "\n",
        "idx = pd.date_range('2024-06-01', periods=12, freq='MS')\n",
        "df_forecast=pd.DataFrame(data=pred, index=idx, columns=['inflation', 'M1'])"
      ]
    },
    {
      "cell_type": "code",
      "execution_count": 25,
      "metadata": {
        "colab": {
          "base_uri": "https://localhost:8080/",
          "height": 426
        },
        "id": "VyyxIptzdDmO",
        "outputId": "07125f37-e301-42be-bdec-49707ffb42df"
      },
      "outputs": [
        {
          "data": {
            "text/html": [
              "<div>\n",
              "<style scoped>\n",
              "    .dataframe tbody tr th:only-of-type {\n",
              "        vertical-align: middle;\n",
              "    }\n",
              "\n",
              "    .dataframe tbody tr th {\n",
              "        vertical-align: top;\n",
              "    }\n",
              "\n",
              "    .dataframe thead th {\n",
              "        text-align: right;\n",
              "    }\n",
              "</style>\n",
              "<table border=\"1\" class=\"dataframe\">\n",
              "  <thead>\n",
              "    <tr style=\"text-align: right;\">\n",
              "      <th></th>\n",
              "      <th>inflation</th>\n",
              "      <th>M1</th>\n",
              "    </tr>\n",
              "  </thead>\n",
              "  <tbody>\n",
              "    <tr>\n",
              "      <th>2024-06-01</th>\n",
              "      <td>0.935307</td>\n",
              "      <td>7.247019e+07</td>\n",
              "    </tr>\n",
              "    <tr>\n",
              "      <th>2024-07-01</th>\n",
              "      <td>0.005083</td>\n",
              "      <td>-6.353725e+07</td>\n",
              "    </tr>\n",
              "    <tr>\n",
              "      <th>2024-08-01</th>\n",
              "      <td>-0.109863</td>\n",
              "      <td>-3.553326e+07</td>\n",
              "    </tr>\n",
              "    <tr>\n",
              "      <th>2024-09-01</th>\n",
              "      <td>0.243798</td>\n",
              "      <td>3.063550e+07</td>\n",
              "    </tr>\n",
              "    <tr>\n",
              "      <th>2024-10-01</th>\n",
              "      <td>-0.090097</td>\n",
              "      <td>1.151524e+06</td>\n",
              "    </tr>\n",
              "    <tr>\n",
              "      <th>2024-11-01</th>\n",
              "      <td>0.227518</td>\n",
              "      <td>8.099331e+07</td>\n",
              "    </tr>\n",
              "    <tr>\n",
              "      <th>2024-12-01</th>\n",
              "      <td>-0.550003</td>\n",
              "      <td>2.684896e+07</td>\n",
              "    </tr>\n",
              "    <tr>\n",
              "      <th>2025-01-01</th>\n",
              "      <td>0.171277</td>\n",
              "      <td>-1.850627e+08</td>\n",
              "    </tr>\n",
              "    <tr>\n",
              "      <th>2025-02-01</th>\n",
              "      <td>-0.059628</td>\n",
              "      <td>4.723647e+07</td>\n",
              "    </tr>\n",
              "    <tr>\n",
              "      <th>2025-03-01</th>\n",
              "      <td>-0.103654</td>\n",
              "      <td>5.405478e+07</td>\n",
              "    </tr>\n",
              "    <tr>\n",
              "      <th>2025-04-01</th>\n",
              "      <td>-0.171045</td>\n",
              "      <td>-5.325884e+07</td>\n",
              "    </tr>\n",
              "    <tr>\n",
              "      <th>2025-05-01</th>\n",
              "      <td>-0.021931</td>\n",
              "      <td>3.027961e+07</td>\n",
              "    </tr>\n",
              "  </tbody>\n",
              "</table>\n",
              "</div>"
            ],
            "text/plain": [
              "            inflation            M1\n",
              "2024-06-01   0.935307  7.247019e+07\n",
              "2024-07-01   0.005083 -6.353725e+07\n",
              "2024-08-01  -0.109863 -3.553326e+07\n",
              "2024-09-01   0.243798  3.063550e+07\n",
              "2024-10-01  -0.090097  1.151524e+06\n",
              "2024-11-01   0.227518  8.099331e+07\n",
              "2024-12-01  -0.550003  2.684896e+07\n",
              "2025-01-01   0.171277 -1.850627e+08\n",
              "2025-02-01  -0.059628  4.723647e+07\n",
              "2025-03-01  -0.103654  5.405478e+07\n",
              "2025-04-01  -0.171045 -5.325884e+07\n",
              "2025-05-01  -0.021931  3.027961e+07"
            ]
          },
          "execution_count": 25,
          "metadata": {},
          "output_type": "execute_result"
        }
      ],
      "source": [
        "df_forecast"
      ]
    },
    {
      "cell_type": "markdown",
      "metadata": {
        "id": "LD4eM9ys92pF"
      },
      "source": [
        "**7) Invert the transformation**\n",
        "\n",
        "We have to note that the forecasted values (Inflation and M1) are  differenced in order  2 . To get it similar to original data we have to roll back each difference."
      ]
    },
    {
      "cell_type": "code",
      "execution_count": 26,
      "metadata": {
        "colab": {
          "base_uri": "https://localhost:8080/"
        },
        "id": "BXwGinTrhylj",
        "outputId": "704a9cd1-a2f3-4780-ea2a-153e50dccb40"
      },
      "outputs": [
        {
          "name": "stdout",
          "output_type": "stream",
          "text": [
            "Forecasted values for June 2024 to May 2025:\n",
            "             inflation            M1\n",
            "2024-06-01  134.502307  7.645883e+09\n",
            "2024-07-01  135.442697  7.654816e+09\n",
            "2024-08-01  136.273223  7.628216e+09\n",
            "2024-09-01  137.347548  7.632251e+09\n",
            "2024-10-01  138.331774  7.637437e+09\n",
            "2024-11-01  139.543519  7.723617e+09\n",
            "2024-12-01  140.205262  7.836646e+09\n",
            "2025-01-01  141.038281  7.764613e+09\n",
            "2025-02-01  141.811673  7.739815e+09\n",
            "2025-03-01  142.481410  7.769073e+09\n",
            "2025-04-01  142.980102  7.745072e+09\n",
            "2025-05-01  143.456863  7.751350e+09\n"
          ]
        }
      ],
      "source": [
        "# Forecast future values (June 2024 to May 2025)\n",
        "if len(train) >= optimal_order:\n",
        "    # Get the last 'optimal_order' values for forecasting\n",
        "    lagged_values = train.values[-optimal_order:]\n",
        "    pred = results.forecast(y=lagged_values, steps=12)\n",
        "\n",
        "    # Create new index for the forecast period\n",
        "    idx = pd.date_range(start='2024-06-01', periods=12, freq='MS')\n",
        "    forecast_df = pd.DataFrame(data=pred, index=idx, columns=train.columns)\n",
        "\n",
        "    # Revert the second differencing to get the forecast in first differences\n",
        "    for col in columns_to_diff:\n",
        "        forecast_df[col] = forecast_df[col].cumsum()\n",
        "\n",
        "    # Get the last known first difference values\n",
        "    last_diff = df_diff.iloc[-1]\n",
        "    for col in columns_to_diff:\n",
        "        forecast_df[col] = last_diff[col] + forecast_df[col].cumsum()\n",
        "\n",
        "    # Get the last known original values\n",
        "    last_original = df.iloc[-1]\n",
        "    for col in columns_to_diff:\n",
        "        forecast_df[col] = last_original[col] + forecast_df[col]\n",
        "\n",
        "    print(\"Forecasted values for June 2024 to May 2025:\")\n",
        "    print(forecast_df)"
      ]
    },
    {
      "cell_type": "markdown",
      "metadata": {
        "id": "V4yP2hqbl9dE"
      },
      "source": [
        "PLOT"
      ]
    },
    {
      "cell_type": "code",
      "execution_count": 27,
      "metadata": {
        "colab": {
          "base_uri": "https://localhost:8080/",
          "height": 851
        },
        "id": "iRk_VUG48jyW",
        "outputId": "f860cfdf-b228-4f8f-ed78-3acbbad44fce"
      },
      "outputs": [
        {
          "name": "stdout",
          "output_type": "stream",
          "text": [
            "Combined Data (Historical + Forecasted):\n"
          ]
        },
        {
          "data": {
            "text/html": [
              "<div>\n",
              "<style scoped>\n",
              "    .dataframe tbody tr th:only-of-type {\n",
              "        vertical-align: middle;\n",
              "    }\n",
              "\n",
              "    .dataframe tbody tr th {\n",
              "        vertical-align: top;\n",
              "    }\n",
              "\n",
              "    .dataframe thead th {\n",
              "        text-align: right;\n",
              "    }\n",
              "</style>\n",
              "<table border=\"1\" class=\"dataframe\">\n",
              "  <thead>\n",
              "    <tr style=\"text-align: right;\">\n",
              "      <th></th>\n",
              "      <th>inflation</th>\n",
              "      <th>M1</th>\n",
              "    </tr>\n",
              "  </thead>\n",
              "  <tbody>\n",
              "    <tr>\n",
              "      <th>2023-05-01</th>\n",
              "      <td>128.084000</td>\n",
              "      <td>6.679351e+09</td>\n",
              "    </tr>\n",
              "    <tr>\n",
              "      <th>2023-06-01</th>\n",
              "      <td>128.214000</td>\n",
              "      <td>6.741457e+09</td>\n",
              "    </tr>\n",
              "    <tr>\n",
              "      <th>2023-07-01</th>\n",
              "      <td>128.832000</td>\n",
              "      <td>6.810745e+09</td>\n",
              "    </tr>\n",
              "    <tr>\n",
              "      <th>2023-08-01</th>\n",
              "      <td>129.545000</td>\n",
              "      <td>6.811960e+09</td>\n",
              "    </tr>\n",
              "    <tr>\n",
              "      <th>2023-09-01</th>\n",
              "      <td>130.120000</td>\n",
              "      <td>6.850744e+09</td>\n",
              "    </tr>\n",
              "    <tr>\n",
              "      <th>2023-10-01</th>\n",
              "      <td>130.609000</td>\n",
              "      <td>6.953980e+09</td>\n",
              "    </tr>\n",
              "    <tr>\n",
              "      <th>2023-11-01</th>\n",
              "      <td>131.445000</td>\n",
              "      <td>7.109145e+09</td>\n",
              "    </tr>\n",
              "    <tr>\n",
              "      <th>2023-12-01</th>\n",
              "      <td>132.373000</td>\n",
              "      <td>7.442319e+09</td>\n",
              "    </tr>\n",
              "    <tr>\n",
              "      <th>2024-01-01</th>\n",
              "      <td>133.555000</td>\n",
              "      <td>7.281862e+09</td>\n",
              "    </tr>\n",
              "    <tr>\n",
              "      <th>2024-02-01</th>\n",
              "      <td>133.681000</td>\n",
              "      <td>7.422935e+09</td>\n",
              "    </tr>\n",
              "    <tr>\n",
              "      <th>2024-03-01</th>\n",
              "      <td>134.065000</td>\n",
              "      <td>7.445689e+09</td>\n",
              "    </tr>\n",
              "    <tr>\n",
              "      <th>2024-04-01</th>\n",
              "      <td>134.336000</td>\n",
              "      <td>7.344491e+09</td>\n",
              "    </tr>\n",
              "    <tr>\n",
              "      <th>2024-05-01</th>\n",
              "      <td>134.087000</td>\n",
              "      <td>7.408353e+09</td>\n",
              "    </tr>\n",
              "    <tr>\n",
              "      <th>2024-06-01</th>\n",
              "      <td>134.502307</td>\n",
              "      <td>7.645883e+09</td>\n",
              "    </tr>\n",
              "    <tr>\n",
              "      <th>2024-07-01</th>\n",
              "      <td>135.442697</td>\n",
              "      <td>7.654816e+09</td>\n",
              "    </tr>\n",
              "    <tr>\n",
              "      <th>2024-08-01</th>\n",
              "      <td>136.273223</td>\n",
              "      <td>7.628216e+09</td>\n",
              "    </tr>\n",
              "    <tr>\n",
              "      <th>2024-09-01</th>\n",
              "      <td>137.347548</td>\n",
              "      <td>7.632251e+09</td>\n",
              "    </tr>\n",
              "    <tr>\n",
              "      <th>2024-10-01</th>\n",
              "      <td>138.331774</td>\n",
              "      <td>7.637437e+09</td>\n",
              "    </tr>\n",
              "    <tr>\n",
              "      <th>2024-11-01</th>\n",
              "      <td>139.543519</td>\n",
              "      <td>7.723617e+09</td>\n",
              "    </tr>\n",
              "    <tr>\n",
              "      <th>2024-12-01</th>\n",
              "      <td>140.205262</td>\n",
              "      <td>7.836646e+09</td>\n",
              "    </tr>\n",
              "    <tr>\n",
              "      <th>2025-01-01</th>\n",
              "      <td>141.038281</td>\n",
              "      <td>7.764613e+09</td>\n",
              "    </tr>\n",
              "    <tr>\n",
              "      <th>2025-02-01</th>\n",
              "      <td>141.811673</td>\n",
              "      <td>7.739815e+09</td>\n",
              "    </tr>\n",
              "    <tr>\n",
              "      <th>2025-03-01</th>\n",
              "      <td>142.481410</td>\n",
              "      <td>7.769073e+09</td>\n",
              "    </tr>\n",
              "    <tr>\n",
              "      <th>2025-04-01</th>\n",
              "      <td>142.980102</td>\n",
              "      <td>7.745072e+09</td>\n",
              "    </tr>\n",
              "    <tr>\n",
              "      <th>2025-05-01</th>\n",
              "      <td>143.456863</td>\n",
              "      <td>7.751350e+09</td>\n",
              "    </tr>\n",
              "  </tbody>\n",
              "</table>\n",
              "</div>"
            ],
            "text/plain": [
              "             inflation            M1\n",
              "2023-05-01  128.084000  6.679351e+09\n",
              "2023-06-01  128.214000  6.741457e+09\n",
              "2023-07-01  128.832000  6.810745e+09\n",
              "2023-08-01  129.545000  6.811960e+09\n",
              "2023-09-01  130.120000  6.850744e+09\n",
              "2023-10-01  130.609000  6.953980e+09\n",
              "2023-11-01  131.445000  7.109145e+09\n",
              "2023-12-01  132.373000  7.442319e+09\n",
              "2024-01-01  133.555000  7.281862e+09\n",
              "2024-02-01  133.681000  7.422935e+09\n",
              "2024-03-01  134.065000  7.445689e+09\n",
              "2024-04-01  134.336000  7.344491e+09\n",
              "2024-05-01  134.087000  7.408353e+09\n",
              "2024-06-01  134.502307  7.645883e+09\n",
              "2024-07-01  135.442697  7.654816e+09\n",
              "2024-08-01  136.273223  7.628216e+09\n",
              "2024-09-01  137.347548  7.632251e+09\n",
              "2024-10-01  138.331774  7.637437e+09\n",
              "2024-11-01  139.543519  7.723617e+09\n",
              "2024-12-01  140.205262  7.836646e+09\n",
              "2025-01-01  141.038281  7.764613e+09\n",
              "2025-02-01  141.811673  7.739815e+09\n",
              "2025-03-01  142.481410  7.769073e+09\n",
              "2025-04-01  142.980102  7.745072e+09\n",
              "2025-05-01  143.456863  7.751350e+09"
            ]
          },
          "execution_count": 27,
          "metadata": {},
          "output_type": "execute_result"
        }
      ],
      "source": [
        "# Combine historical and forecast data\n",
        "combined_df = pd.concat([df, forecast_df])\n",
        "print(\"Combined Data (Historical + Forecasted):\")\n",
        "combined_df.tail(25)\n"
      ]
    },
    {
      "cell_type": "markdown",
      "metadata": {
        "id": "IEGQGK9ueElt"
      },
      "source": [
        "Plot"
      ]
    },
    {
      "cell_type": "code",
      "execution_count": 28,
      "metadata": {
        "colab": {
          "base_uri": "https://localhost:8080/",
          "height": 1000
        },
        "id": "79kDYcdUmf-H",
        "outputId": "a49fe2a3-9c96-4c9c-8d63-c224541e1595"
      },
      "outputs": [
        {
          "data": {
            "image/png": "[encoded data removed]",
            "text/plain": [
              "<Figure size 1200x600 with 1 Axes>"
            ]
          },
          "metadata": {},
          "output_type": "display_data"
        },
        {
          "data": {
            "image/png": "[encoded data removed]",
            "text/plain": [
              "<Figure size 1200x600 with 1 Axes>"
            ]
          },
          "metadata": {},
          "output_type": "display_data"
        }
      ],
      "source": [
        "# Plot M1 data\n",
        "plt.figure(figsize=(12, 6))\n",
        "plt.plot(df.index, df['M1'], color='red', label='Historical M1') #HISTORICAL DATA\n",
        "plt.plot(forecast_df.index, forecast_df['M1'], color='blue', label='Forecast M1') #FORECAST\n",
        "plt.xlabel('Date')\n",
        "plt.ylabel('M1')\n",
        "plt.title('Historical and Forecast M1')\n",
        "plt.legend()\n",
        "plt.grid(True)\n",
        "plt.show()\n",
        "\n",
        "# Plot inflation data\n",
        "plt.figure(figsize=(12, 6))\n",
        "plt.plot(df.index, df['inflation'], color='red', label='Historical Inflation') #HISTORICAL DATA\n",
        "plt.plot(forecast_df.index, forecast_df['inflation'], color='blue', label='Forecast Inflation') #FORECAST DATA\n",
        "plt.xlabel('Date')\n",
        "plt.ylabel('Inflation')\n",
        "plt.title('Historical and Forecast Inflation')\n",
        "plt.legend()\n",
        "plt.grid(True)\n",
        "plt.show()"
      ]
    }
  ],
  "metadata": {
    "colab": {
      "provenance": []
    },
    "kernelspec": {
      "display_name": "Python 3",
      "name": "python3"
    },
    "language_info": {
      "codemirror_mode": {
        "name": "ipython",
        "version": 3
      },
      "file_extension": ".py",
      "mimetype": "text/x-python",
      "name": "python",
      "nbconvert_exporter": "python",
      "pygments_lexer": "ipython3",
      "version": "3.12.4"
    }
  },
  "nbformat": 4,
  "nbformat_minor": 0
}
